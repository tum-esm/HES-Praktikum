{
 "cells": [
  {
   "cell_type": "markdown",
   "id": "157a6e32",
   "metadata": {},
   "source": [
    "# Hands-on Environmental Sensing I\n",
    "Aufbau und Charakterisierung eines Low-Cost CO<sub>2</sub> Sensors.\n",
    "\n",
    "### Beschreibung\n",
    "In diesem Notebook werden die gemessenen Daten analysiert, grafisch dargestellt und ausgewertet.n\n",
    "Gehe Schritt für Schritt durch das Notebook und führe die beschriebenen Aufgaben aus."
   ]
  },
  {
   "cell_type": "markdown",
   "id": "fd61a08b-75b9-4961-b717-46b5eb4cb561",
   "metadata": {},
   "source": [
    "### Python Library Import\n",
    "Der erste Schritt besteht darin, Python-Pakete zu importieren, die verwendet werden. Pandas ist für Data Scientists unverzichtbar und wird zum Importieren, Manipulieren und Generieren von Daten verwendet. Außerdem verwenden wir matplotlib zum Plotten der Daten"
   ]
  },
  {
   "cell_type": "code",
   "execution_count": null,
   "id": "48cdb8ee-ed9d-4b37-9f08-58c0dd9f47eb",
   "metadata": {},
   "outputs": [],
   "source": [
    "import pandas as pd\n",
    "import matplotlib.pyplot as plt\n",
    "\n",
    "from matplotlib.dates import DateFormatter\n",
    "\n",
    "%matplotlib inline"
   ]
  },
  {
   "cell_type": "markdown",
   "id": "724de6cf",
   "metadata": {},
   "source": [
    "### Data import from the database\n",
    "Here we access the database and query all data available. With more advanced SQL queries we could also add some filters or sorting. However, since we don't have huge amounts of data, this is not necessary."
   ]
  },
  {
   "cell_type": "code",
   "execution_count": null,
   "id": "226cbf6f",
   "metadata": {},
   "outputs": [],
   "source": [
    "# load data from json file\n",
    "filename = 'sensor_data.json'\n",
    "\n",
    "# Read JSON lines into DataFrame\n",
    "sensor_data = pd.read_json(\"data/\" + filename, lines=True)\n",
    "\n",
    "# Convert timestamp to datetime format and set it as index\n",
    "sensor_data['timestamp'] = pd.to_datetime(sensor_data['timestamp'])\n",
    "sensor_data.set_index('timestamp', inplace=True)\n",
    "\n",
    "sensor_data.head()"
   ]
  },
  {
   "cell_type": "code",
   "execution_count": null,
   "id": "c50e0c5c",
   "metadata": {},
   "outputs": [],
   "source": [
    "# print datatypes of the columns\n",
    "sensor_data.dtypes"
   ]
  },
  {
   "cell_type": "markdown",
   "id": "4ee6f1b9-de75-49ed-bec3-b241d2830073",
   "metadata": {},
   "source": [
    "## Grundlegende Informationen und Statistiken über die Daten  \n",
    "\n",
    "Wir haben die Daten nun aus dem File importiert und können im Notebook damit arbeiten.  \n",
    "\n",
    "Mit `df.head()` kannst du dir schnell die ersten Zeilen eines DataFrames anzeigen lassen, um einen ersten Überblick zu erhalten. Jetzt werden wir die Daten etwas genauer untersuchen und:  \n",
    "\n",
    "- Sie auf den relevanten Zeitraum eingrenzen  \n",
    "- Den arithmetischen Mittelwert berechnen  \n",
    "- Die Varianz berechnen"
   ]
  },
  {
   "cell_type": "code",
   "execution_count": null,
   "id": "e926efb7",
   "metadata": {},
   "outputs": [],
   "source": [
    "# trimeframe of the data\n",
    "print(f'Die ersten Daten sind vom: {sensor_data.timestamp.min()}')\n",
    "print(f'Die letzten Daten sind vom: {sensor_data.timestamp.max()}')\n",
    "\n",
    "# TODO: Choose the timeframe of interest with the loc operator. Perform it for the dataframe.\n",
    "#       Example: co2_sel = sensor_data.loc['YYYY-MM-DD H:M:S':'YYYY-MM-DD H:M:S']"
   ]
  },
  {
   "cell_type": "code",
   "execution_count": null,
   "id": "b90a088d",
   "metadata": {},
   "outputs": [],
   "source": [
    "# You can use df['column_name'].mean() to calculate the average of a dataframe column.  \n",
    "\n",
    "# TODO: Apply .mean() to the 'value' column of the dataframes (e.g. no2['value']). \n",
    "#       You can also try out other functions such as: .sum(), .std() etc..."
   ]
  },
  {
   "cell_type": "markdown",
   "id": "d44d12c4-4a62-4bed-bdd9-6eee1848f046",
   "metadata": {},
   "source": [
    "---\n",
    "## Apply conversion factors\n",
    "As described in the script, we need to apply conversion factors to convert the ppm value to µg/m^3. This is important, since the unit of the official limits is µg/m^3. "
   ]
  },
  {
   "cell_type": "code",
   "execution_count": null,
   "id": "6f6e5f19-1db5-478c-b9f1-4233a5203036",
   "metadata": {},
   "outputs": [],
   "source": [
    "# Convert the value from ppm to µg/m^3 and store it in a new column. \n",
    "\n",
    "# TODO: Look for the conversion factors in your course script and apply them to all values in the value \n",
    "#       column of the dataframe. Store the converted values in a new column. Investigate the converted\n",
    "#       table with df.head()\n",
    "# Hint: With df[NewColumn] = df[OldColumn] * value you can easily convert the values; 1 ppm = 1000 ppb \n"
   ]
  },
  {
   "cell_type": "markdown",
   "id": "1b584809-ad1e-4a26-b43d-b24f259f9a86",
   "metadata": {},
   "source": [
    "---\n",
    "## Plot the data\n",
    "\n",
    "Now it is time to plot the values of each sensor and investigate the timeseries. Below you can find an example plot of the no2 values, the measured temperature and humidity. Find a good way to investigate the data, play around with scales, colors and plottypes.<br>\n",
    "You can find example plots and descriptions [here](https://matplotlib.org/stable/plot_types/index.html). "
   ]
  },
  {
   "cell_type": "code",
   "execution_count": null,
   "id": "802dc1ad",
   "metadata": {},
   "outputs": [],
   "source": [
    "#value plot\n",
    "fig, ax = plt.subplots(3, 1, figsize = (16,9), sharex = True)\n",
    "\n",
    "ax[0].plot(no2[\"value\"])\n",
    "ax[1].plot(co[\"value\"])\n",
    "ax[2].plot(o3[\"value\"])\n",
    "\n",
    "hh_mm = DateFormatter('%H:%M')\n",
    "ax[2].xaxis.set_major_formatter(hh_mm)"
   ]
  },
  {
   "cell_type": "markdown",
   "id": "a9d1bc9e",
   "metadata": {},
   "source": [
    "## Plot temperature and humidity in same timeframe\n",
    "\n",
    "Using the example above, plot the temperature and Humidity in the same timeframe. "
   ]
  },
  {
   "cell_type": "code",
   "execution_count": null,
   "id": "f49fc288",
   "metadata": {},
   "outputs": [],
   "source": [
    "# TODO: Plot temperature and humidity in the same timeframe\n",
    "# Hint: Use the example above; The temperature and humidity in all dataframes are the same, \n",
    "#       therefore you only need to print them once. \n",
    "\n"
   ]
  },
  {
   "cell_type": "markdown",
   "id": "6a4fe8f9-3bd8-4546-a64c-e0658130648d",
   "metadata": {},
   "source": [
    "---\n",
    "## Interpretation of the data\n",
    " What can you deduce from the graphs above?\n",
    " Do you think that the mean is a representative value considering the plot? \n",
    " Are the sensors suited for the shown evaluation?"
   ]
  },
  {
   "cell_type": "markdown",
   "id": "556383fe-ca98-4512-8f45-c2e2ef7e8286",
   "metadata": {},
   "source": [
    "## Resampling of the data\n",
    "\n",
    "With the very simple function df.resample('resample_time') you can calculate groups of data that fit a specific timeframe. E.g. df.resample('M').mean() returns a dataframe holding the monthly average of the data in df. We will now use this function to calculate 5min averaged and median values. "
   ]
  },
  {
   "cell_type": "code",
   "execution_count": null,
   "id": "fe61ea44-da89-41ec-bf31-70daeb233c42",
   "metadata": {},
   "outputs": [],
   "source": [
    "# TODO: Use df.resample() to calculate a new dataframe holding the 5min average and median values. \n",
    "#       Plot the resampled values. \n",
    "\n"
   ]
  }
 ],
 "metadata": {
  "kernelspec": {
   "display_name": "Python 3",
   "language": "python",
   "name": "python3"
  },
  "language_info": {
   "codemirror_mode": {
    "name": "ipython",
    "version": 3
   },
   "file_extension": ".py",
   "mimetype": "text/x-python",
   "name": "python",
   "nbconvert_exporter": "python",
   "pygments_lexer": "ipython3",
   "version": "3.10.13"
  }
 },
 "nbformat": 4,
 "nbformat_minor": 5
}
